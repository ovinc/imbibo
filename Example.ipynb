{
 "cells": [
  {
   "cell_type": "code",
   "execution_count": 2,
   "id": "d0e35fde-19c4-4f82-a30c-4593551c53af",
   "metadata": {},
   "outputs": [],
   "source": [
    "from imbibo import Water, Liquid\n",
    "from imbibo import PorousMedium, PoreLiquid"
   ]
  },
  {
   "cell_type": "markdown",
   "id": "1d0073f5",
   "metadata": {},
   "source": [
    "- Define material"
   ]
  },
  {
   "cell_type": "code",
   "execution_count": 18,
   "id": "d51f1d03",
   "metadata": {},
   "outputs": [],
   "source": [
    "porous_silicon = PorousMedium(\n",
    "    pore_radius=1.7e-9,\n",
    "    porosity=0.45,\n",
    "    tortuosity=4.5,\n",
    ")"
   ]
  },
  {
   "cell_type": "markdown",
   "id": "af892e02",
   "metadata": {},
   "source": [
    "- Define liquid(s) "
   ]
  },
  {
   "cell_type": "code",
   "execution_count": 21,
   "id": "d8aef4c0",
   "metadata": {},
   "outputs": [],
   "source": [
    "water = Water(temperature=20)\n",
    "isopropanol = Liquid(surface_tension=21.1e-3, viscosity=2.24e-3)"
   ]
  },
  {
   "cell_type": "markdown",
   "id": "c000f0a6",
   "metadata": {},
   "source": [
    "- Define {liquid + material} system"
   ]
  },
  {
   "cell_type": "code",
   "execution_count": 22,
   "id": "edd08a41",
   "metadata": {},
   "outputs": [
    {
     "data": {
      "text/plain": [
       "5.5566848960140766e-09"
      ]
     },
     "execution_count": 22,
     "metadata": {},
     "output_type": "execute_result"
    }
   ],
   "source": [
    "water_in_posi = PoreLiquid(\n",
    "    liquid=water,\n",
    "    porous_medium=porous_silicon,\n",
    "    contact_angle=25,\n",
    "    radius_corr_hydraulic=-0.31e-9,\n",
    ")\n",
    "\n",
    "water_in_posi.lw_constant"
   ]
  },
  {
   "cell_type": "code",
   "execution_count": 23,
   "id": "b38a9938-e2be-47cd-8d5d-30d5581c2415",
   "metadata": {},
   "outputs": [
    {
     "data": {
      "text/plain": [
       "1.6120972967280288e-17"
      ]
     },
     "execution_count": 23,
     "metadata": {},
     "output_type": "execute_result"
    }
   ],
   "source": [
    "water_in_posi.permeability"
   ]
  },
  {
   "cell_type": "code",
   "execution_count": 24,
   "id": "d9bb9813",
   "metadata": {},
   "outputs": [
    {
     "data": {
      "text/plain": [
       "4.3734258239345876e-10"
      ]
     },
     "execution_count": 24,
     "metadata": {},
     "output_type": "execute_result"
    }
   ],
   "source": [
    "isopropanol_in_posi = PoreLiquid(\n",
    "    liquid=isopropanol,\n",
    "    porous_medium=porous_silicon,\n",
    "    contact_angle=0,\n",
    "    radius_corr_hydraulic=-0.503e-9,\n",
    ")\n",
    "\n",
    "isopropanol_in_posi.lw_constant"
   ]
  },
  {
   "cell_type": "code",
   "execution_count": null,
   "id": "b3e85c29",
   "metadata": {},
   "outputs": [],
   "source": []
  }
 ],
 "metadata": {
  "kernelspec": {
   "display_name": "base",
   "language": "python",
   "name": "python3"
  },
  "language_info": {
   "codemirror_mode": {
    "name": "ipython",
    "version": 3
   },
   "file_extension": ".py",
   "mimetype": "text/x-python",
   "name": "python",
   "nbconvert_exporter": "python",
   "pygments_lexer": "ipython3",
   "version": "3.10.16"
  }
 },
 "nbformat": 4,
 "nbformat_minor": 5
}
